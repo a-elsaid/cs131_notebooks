{
 "cells": [
  {
   "cell_type": "markdown",
   "id": "0a224e91",
   "metadata": {},
   "source": [
    "# CSC 131 - Chapter 8"
   ]
  },
  {
   "cell_type": "markdown",
   "id": "926cb9d7",
   "metadata": {},
   "source": [
    "## Review\n",
    "### Functions:\n",
    "- Calling Functions\n",
    "- Defining Functions\n",
    "- Abstraction\n",
    "- Decomposition\n",
    "- global scope\n",
    "- local scope\n",
    "- can access global scope varaibales, but cannot change it\n",
    "- cannot access local scope variables in global scopes\n",
    "#### Recursion:\n",
    "    - recursion rules:\n",
    "        1. basic condition \n",
    "        2. basic condition reachable\n",
    "        3. problem breakable to smaller problems \n",
    "    - linear recurssion vs. tree recursion "
   ]
  },
  {
   "cell_type": "markdown",
   "id": "4aa80fd4",
   "metadata": {},
   "source": [
    "## Reading-from / Writing-to Text Files\n",
    "- So far, data we used is only available while program is running... once program terminates data is wipped from memory\n",
    "- For information to live between program runs, we need to save them to a more permenent medium; hard-disk\n",
    "- We can save the data as character; Text Files, or as binary data; Binary File\n",
    "\n",
    "### Text Files vs. Binary Files\n",
    "- Text files contain only character values, while for contract, binary files can have anytype of values.\n",
    "- Text files can be open by any text-editor \n",
    "- Binary files needs a program to decode the data \n",
    "\n",
    "### Experiment: \n",
    "- open to the folder you created for lab16 \n",
    "- search for a file called `lab16.pyc`\n",
    "- try to open that file with a any word-editor and take a look at it\n",
    "- **you will notice:**\n",
    "    - some of the file content is readable, some not, and the file scrabled\n",
    "- that file was binary file. The parts of the file you could read are the character parts of the file \n",
    "- Note: if you didn't find the `.pyc` file in the same folder: go to `__pycache__` folder and you will find the file there"
   ]
  },
  {
   "cell_type": "markdown",
   "id": "bcd98ec1",
   "metadata": {},
   "source": [
    "## Using Text Files\n",
    "- openning a file \n",
    "- reading from a file\n",
    "- writting to a file\n",
    "- closing a file"
   ]
  },
  {
   "cell_type": "markdown",
   "id": "361a127e",
   "metadata": {},
   "source": [
    "### `open(arg1, arg2)`\n",
    "#### - arg1: `<file_path+file_name>`\n",
    "#### - arg2: mode of openning the file"
   ]
  },
  {
   "cell_type": "markdown",
   "id": "c22cb544",
   "metadata": {},
   "source": [
    "#### **Open for Reading**"
   ]
  },
  {
   "cell_type": "code",
   "execution_count": 30,
   "id": "9a69ff80",
   "metadata": {},
   "outputs": [],
   "source": [
    "input_file = open('ch08_txt1.txt', 'r')"
   ]
  },
  {
   "cell_type": "code",
   "execution_count": 32,
   "id": "782fb943",
   "metadata": {},
   "outputs": [
    {
     "ename": "FileNotFoundError",
     "evalue": "[Errno 2] No such file or directory: 'ch08_txt0.txt'",
     "output_type": "error",
     "traceback": [
      "\u001b[0;31m---------------------------------------------------------------------------\u001b[0m",
      "\u001b[0;31mFileNotFoundError\u001b[0m                         Traceback (most recent call last)",
      "Input \u001b[0;32mIn [32]\u001b[0m, in \u001b[0;36m<cell line: 1>\u001b[0;34m()\u001b[0m\n\u001b[0;32m----> 1\u001b[0m input_file \u001b[38;5;241m=\u001b[39m \u001b[38;5;28;43mopen\u001b[39;49m\u001b[43m(\u001b[49m\u001b[38;5;124;43m'\u001b[39;49m\u001b[38;5;124;43mch08_txt0.txt\u001b[39;49m\u001b[38;5;124;43m'\u001b[39;49m\u001b[43m,\u001b[49m\u001b[43m \u001b[49m\u001b[38;5;124;43m'\u001b[39;49m\u001b[38;5;124;43mr\u001b[39;49m\u001b[38;5;124;43m'\u001b[39;49m\u001b[43m)\u001b[49m\n",
      "\u001b[0;31mFileNotFoundError\u001b[0m: [Errno 2] No such file or directory: 'ch08_txt0.txt'"
     ]
    }
   ],
   "source": [
    "input_file = open('ch08_txt0.txt', 'r')      # I/O Error"
   ]
  },
  {
   "cell_type": "markdown",
   "id": "1add9f59",
   "metadata": {},
   "source": [
    "### `close()`\n",
    "#### when program is finished reading the file, it should be closed by calling the close method"
   ]
  },
  {
   "cell_type": "code",
   "execution_count": 33,
   "id": "6d8ddc48",
   "metadata": {},
   "outputs": [],
   "source": [
    "input_file.close()"
   ]
  },
  {
   "cell_type": "markdown",
   "id": "37afe5e0",
   "metadata": {},
   "source": [
    "#### once closed, the file cannot be accessed again\n",
    "#### file can be reopen using `open()` ... each time it opens, it will start from the beginning of the file"
   ]
  },
  {
   "cell_type": "markdown",
   "id": "d446cad8",
   "metadata": {},
   "source": [
    "### Try it:\n",
    "#### create a file called `ch8_data1.txt` with this content:\n",
    "\n",
    "    line 0: This is File ch8_data1 file\n",
    "    line 1\n",
    "    line 2\n",
    "    line 3\n",
    "    line 4\n",
    "\n",
    "#### try running the script below using `ch8_data1.txt` and `ch8_data2.txt`"
   ]
  },
  {
   "cell_type": "code",
   "execution_count": 39,
   "id": "f3844f66",
   "metadata": {},
   "outputs": [
    {
     "name": "stdout",
     "output_type": "stream",
     "text": [
      "Enter File Name: df\n"
     ]
    },
    {
     "ename": "FileNotFoundError",
     "evalue": "[Errno 2] No such file or directory: 'df'",
     "output_type": "error",
     "traceback": [
      "\u001b[0;31m---------------------------------------------------------------------------\u001b[0m",
      "\u001b[0;31mFileNotFoundError\u001b[0m                         Traceback (most recent call last)",
      "Input \u001b[0;32mIn [39]\u001b[0m, in \u001b[0;36m<cell line: 2>\u001b[0;34m()\u001b[0m\n\u001b[1;32m      1\u001b[0m file_name \u001b[38;5;241m=\u001b[39m \u001b[38;5;28minput\u001b[39m(\u001b[38;5;124m'\u001b[39m\u001b[38;5;124mEnter File Name: \u001b[39m\u001b[38;5;124m'\u001b[39m)\n\u001b[0;32m----> 2\u001b[0m input_file \u001b[38;5;241m=\u001b[39m \u001b[38;5;28;43mopen\u001b[39;49m\u001b[43m(\u001b[49m\u001b[43mfile_name\u001b[49m\u001b[43m,\u001b[49m\u001b[43m \u001b[49m\u001b[38;5;124;43m'\u001b[39;49m\u001b[38;5;124;43mr\u001b[39;49m\u001b[38;5;124;43m'\u001b[39;49m\u001b[43m)\u001b[49m\n\u001b[1;32m      3\u001b[0m input_file\u001b[38;5;241m.\u001b[39mclose()\n",
      "\u001b[0;31mFileNotFoundError\u001b[0m: [Errno 2] No such file or directory: 'df'"
     ]
    }
   ],
   "source": [
    "file_name = input('Enter File Name: ')\n",
    "input_file = open(file_name, 'r')\n",
    "input_file.close()"
   ]
  },
  {
   "cell_type": "markdown",
   "id": "304c05a2",
   "metadata": {},
   "source": [
    "#### Open for Writing"
   ]
  },
  {
   "cell_type": "code",
   "execution_count": 41,
   "id": "ca03967d",
   "metadata": {},
   "outputs": [],
   "source": [
    "output_file = open('ch08_txt2.txt', 'w')\n",
    "output_file.close()"
   ]
  },
  {
   "cell_type": "markdown",
   "id": "701d16bf",
   "metadata": {},
   "source": [
    "- #### this creates an empty file on the hard-disk at the current folder\n",
    "- #### open the file with a word-editor, add a line, save it, and close the file\n",
    "- #### open the file again with a word editor to make sure that the like you added was saved\n",
    "- #### run the script above again, then reopen the file with the word-editor... the line disappears "
   ]
  },
  {
   "cell_type": "markdown",
   "id": "31a65d94",
   "metadata": {},
   "source": [
    "#### Reading Text Files: `readline()`\n",
    "Reads the files line by line exploiting the `\\n` character"
   ]
  },
  {
   "cell_type": "code",
   "execution_count": 45,
   "id": "7d50e7c8",
   "metadata": {},
   "outputs": [
    {
     "name": "stdout",
     "output_type": "stream",
     "text": [
      "line 0: This is File No.1.\n",
      "\n",
      "line 1\n",
      "\n",
      "line 2\n",
      "\n",
      "line 3\n",
      "\n",
      "line 4\n",
      "\n"
     ]
    }
   ],
   "source": [
    "input_file = open('ch08_txt1.txt', 'r')\n",
    "line = input_file.readline()\n",
    "while line!='':\n",
    "    print(line)\n",
    "    line = input_file.readline()\n",
    "input_file.close()"
   ]
  },
  {
   "cell_type": "code",
   "execution_count": 3,
   "id": "408ec897",
   "metadata": {},
   "outputs": [
    {
     "name": "stdout",
     "output_type": "stream",
     "text": [
      "line 0: This is File No.1.\n",
      "\n",
      "line 1\n",
      "\n",
      "line 2\n",
      "\n",
      "line 3\n",
      "\n",
      "line 4\n",
      "\n"
     ]
    }
   ],
   "source": [
    "input_file = open('ch08_txt1.txt', 'r')\n",
    "for line in input_file:\n",
    "    print (line)\n",
    "input_file.close()"
   ]
  },
  {
   "cell_type": "markdown",
   "id": "ad198e4d",
   "metadata": {},
   "source": [
    "#### Reading Text Files: `read()`"
   ]
  },
  {
   "cell_type": "code",
   "execution_count": 5,
   "id": "2d7a61ba",
   "metadata": {},
   "outputs": [
    {
     "name": "stdout",
     "output_type": "stream",
     "text": [
      "line 0: This is File No.1.\n",
      "line 1\n",
      "line 2\n",
      "line 3\n",
      "line 4\n",
      "\n"
     ]
    }
   ],
   "source": [
    "input_file = open('ch08_txt1.txt', 'r')\n",
    "print(input_file.read())\n",
    "input_file.close()"
   ]
  },
  {
   "cell_type": "markdown",
   "id": "d14620a1",
   "metadata": {},
   "source": [
    "#### Writing Text Files: `write()`"
   ]
  },
  {
   "cell_type": "code",
   "execution_count": 9,
   "id": "e8a4b247",
   "metadata": {},
   "outputs": [],
   "source": [
    "input_file  = open('ch08_txt1.txt', 'r')\n",
    "output_file = open('ch08_txt1.out', 'w')\n",
    "for line in input_file:\n",
    "    output_file.write(line)\n",
    "input_file.close()\n",
    "output_file.close()"
   ]
  },
  {
   "cell_type": "markdown",
   "id": "6d36d38c",
   "metadata": {},
   "source": [
    "- when  writing  to  a  file,  data  is  first placed in an area of memory called a buffer. \n",
    "- Only when the buffer becomes full is the data actually written to the file. (for efficiency) \n",
    "- `close()` forces the flushes the buffer content to the file when writting"
   ]
  },
  {
   "cell_type": "markdown",
   "id": "4213c0ff",
   "metadata": {},
   "source": [
    "## Exception Handling \n",
    "- Various errors can occur when excuting a program. \n",
    "- If an error is counted for, the programmer can `raise` and exception for that error\n",
    "- exceptions are like note/messages that an error occured\n",
    "- if errors are **not** are *\"caught\"* and *\"handled\"* by the programmer, the interpreter will catch them and terminate the program: **the program will crach**\n",
    "- if the errors are *\"caught\"* and *\"handled\"* by the programmer, the programmer can design a solutions that avoid the termination of the program: **avoid the crashing of the program**\n",
    "- So **exceptions** are objects that is *rasied* by the program when an unexpected or exceptional situation occurs.\n",
    "- Python has predefined set of exceptions:"
   ]
  },
  {
   "cell_type": "markdown",
   "id": "1a1e1591",
   "metadata": {},
   "source": [
    "| Exception | Discription |\n",
    "| :--- | :--- |\n",
    "| `ImportError`: | raised when import statement fails |\n",
    "| `IndexError`:  | raised when sequence index is out of range |\n",
    "| `NameError`:   | raised when a local or global name is not found|\n",
    "|`TypeError`     | raised when an operation or function is applied to an object of inappropriate type |\n",
    "| `ValueError`   | raise when a built-in opeartion or function is applied to inapproriate value |\n",
    "| `IOError`      | raise when input/output opration fails \n",
    "| `MemoryError`: | raised when an operation runs out of memory |\n",
    "\n",
    "\n",
    "for more standard exceptions: https://docs.python.org/3/library/exceptions.html#MemoryError"
   ]
  },
  {
   "cell_type": "markdown",
   "id": "5dce9caa",
   "metadata": {},
   "source": [
    "#### Raising exception is a way a function can use to notify the its \"client\" that a problem has occured\n",
    "**Example:** \n",
    "- the function `isEven` takes numric values as input from the user. If a string is passed, the function can handle it internally by asking the user to enter a new entry that is numric, or it can raise an error to the client program that it is facing a problem.\n",
    "- if the client program does not `handle` the exception raised by the isEven function, the interpreter will kick in, terminate the program, and print the exception to the screen\n",
    "- The exception can propagate from one client to its client till is handled at some point or reaches the top level client without being handled, and then the intepreter will take care of of the exception"
   ]
  },
  {
   "cell_type": "code",
   "execution_count": 9,
   "id": "14e18025",
   "metadata": {},
   "outputs": [],
   "source": [
    "def isEven(a):\n",
    "    if type(a) not in [int, float]:\n",
    "        raise TypeError(f\"Variable 'a' type is not int or float... it is {type(a)}\")\n",
    "    return not a%2    "
   ]
  },
  {
   "cell_type": "code",
   "execution_count": 5,
   "id": "258cf3f7",
   "metadata": {},
   "outputs": [],
   "source": [
    "def fixValue(a):\n",
    "    if isEven(a):\n",
    "        return 100\n",
    "    else:\n",
    "        return 50"
   ]
  },
  {
   "cell_type": "code",
   "execution_count": 6,
   "id": "b509d380",
   "metadata": {},
   "outputs": [
    {
     "name": "stdout",
     "output_type": "stream",
     "text": [
      "53\n"
     ]
    }
   ],
   "source": [
    "x = 3\n",
    "y = (x**x+3.1)\n",
    "z = \"abc\"\n",
    "t = fixValue(y)\n",
    "t+=3\n",
    "print(t)"
   ]
  },
  {
   "cell_type": "code",
   "execution_count": 15,
   "id": "1448d0ca",
   "metadata": {},
   "outputs": [
    {
     "name": "stdout",
     "output_type": "stream",
     "text": [
      "Error: Variable 'a' type is not int or float... it is <class 'str'>\n",
      "Do you want to use defult min value: 3.1 (0: no, 1:yes)? 1\n",
      "1\n",
      "The t value is: 53\n"
     ]
    }
   ],
   "source": [
    "x = 3\n",
    "y = (x**x+3.1)\n",
    "z = \"abc\"\n",
    "try:\n",
    "    t=fixValue(z)\n",
    "except TypeError as err_msg:\n",
    "    print(f\"Error: {err_msg}\")\n",
    "    x = int(input(\"Do you want to use defult min value: 3.1 (0: no, 1:yes)? \"))\n",
    "    if x:\n",
    "        t = 3.1\n",
    "    else:\n",
    "        raise TypeError\n",
    "t = fixValue(y)\n",
    "t+=3\n",
    "\n",
    "print(f\"The t value is: {t}\")    "
   ]
  },
  {
   "cell_type": "markdown",
   "id": "da5452d2",
   "metadata": {},
   "source": [
    "#### So what happens if the file we are trying to open does not exist?"
   ]
  },
  {
   "cell_type": "code",
   "execution_count": 18,
   "id": "58bc8ed0",
   "metadata": {},
   "outputs": [
    {
     "name": "stdout",
     "output_type": "stream",
     "text": [
      "Enter File Name: xyz.pdf\n"
     ]
    },
    {
     "ename": "FileNotFoundError",
     "evalue": "[Errno 2] No such file or directory: 'xyz.pdf'",
     "output_type": "error",
     "traceback": [
      "\u001b[0;31m---------------------------------------------------------------------------\u001b[0m",
      "\u001b[0;31mFileNotFoundError\u001b[0m                         Traceback (most recent call last)",
      "Input \u001b[0;32mIn [18]\u001b[0m, in \u001b[0;36m<cell line: 2>\u001b[0;34m()\u001b[0m\n\u001b[1;32m      1\u001b[0m file_name \u001b[38;5;241m=\u001b[39m \u001b[38;5;28minput\u001b[39m(\u001b[38;5;124m'\u001b[39m\u001b[38;5;124mEnter File Name: \u001b[39m\u001b[38;5;124m'\u001b[39m)\n\u001b[0;32m----> 2\u001b[0m input_file \u001b[38;5;241m=\u001b[39m \u001b[38;5;28;43mopen\u001b[39;49m\u001b[43m(\u001b[49m\u001b[43mfile_name\u001b[49m\u001b[43m,\u001b[49m\u001b[43m \u001b[49m\u001b[38;5;124;43m'\u001b[39;49m\u001b[38;5;124;43mr\u001b[39;49m\u001b[38;5;124;43m'\u001b[39;49m\u001b[43m)\u001b[49m\n\u001b[1;32m      3\u001b[0m input_file\u001b[38;5;241m.\u001b[39mclose()\n",
      "\u001b[0;31mFileNotFoundError\u001b[0m: [Errno 2] No such file or directory: 'xyz.pdf'"
     ]
    }
   ],
   "source": [
    "file_name = input('Enter File Name: ')\n",
    "input_file = open(file_name, 'r')\n",
    "input_file.close()"
   ]
  },
  {
   "cell_type": "code",
   "execution_count": 21,
   "id": "51330a4b",
   "metadata": {},
   "outputs": [
    {
     "name": "stdout",
     "output_type": "stream",
     "text": [
      "Enter File Name: xya\n"
     ]
    },
    {
     "ename": "SyntaxError",
     "evalue": "default 'except:' must be last (1813121649.py, line 4)",
     "output_type": "error",
     "traceback": [
      "\u001b[0;36m  Input \u001b[0;32mIn [21]\u001b[0;36m\u001b[0m\n\u001b[0;31m    except:\u001b[0m\n\u001b[0m    ^\u001b[0m\n\u001b[0;31mSyntaxError\u001b[0m\u001b[0;31m:\u001b[0m default 'except:' must be last\n"
     ]
    }
   ],
   "source": [
    "file_name = input('Enter File Name: ')\n",
    "try:\n",
    "    input_file = open(\"xyz.pdf\", 'r')\n",
    "except:\n",
    "    print (f\"Error\")\n",
    "    file_name = input('Enter File Name: ')\n",
    "    input_file = open(\"xyz.pdf\", 'r')\n",
    "except FileNotFoundError as err_msg:\n",
    "    print (f\"Error: {err_msg}\")\n",
    "    file_name = input('Enter File Name: ')\n",
    "    input_file = open(\"xyz.pdf\", 'r')\n",
    "        \n",
    "input_file.close()"
   ]
  },
  {
   "cell_type": "markdown",
   "id": "d765ad05",
   "metadata": {},
   "source": [
    "## `with` statement\n",
    "- used in exception handling to make the code cleaner and much more readable. \n",
    "- it simplifies the management of common resources like file streams."
   ]
  },
  {
   "cell_type": "code",
   "execution_count": 3,
   "id": "acb107b1",
   "metadata": {},
   "outputs": [],
   "source": [
    "# file handling\n",
    "\n",
    "# 1) without using with statement\n",
    "file = open('file_path', 'w')\n",
    "file.write('hello world !')\n",
    "file.close()"
   ]
  },
  {
   "cell_type": "code",
   "execution_count": 4,
   "id": "5f62426c",
   "metadata": {},
   "outputs": [],
   "source": [
    "# 2) without using with statement\n",
    "file = open('file_path', 'w')\n",
    "try:\n",
    "    file.write('hello world')\n",
    "finally:\n",
    "    file.close()"
   ]
  },
  {
   "cell_type": "code",
   "execution_count": null,
   "id": "b5e5c04e",
   "metadata": {},
   "outputs": [],
   "source": [
    "# using with statement\n",
    "with open('file_path', 'w') as file:\n",
    "    file.write('hello world !')"
   ]
  }
 ],
 "metadata": {
  "kernelspec": {
   "display_name": "Python 3 (ipykernel)",
   "language": "python",
   "name": "python3"
  },
  "language_info": {
   "codemirror_mode": {
    "name": "ipython",
    "version": 3
   },
   "file_extension": ".py",
   "mimetype": "text/x-python",
   "name": "python",
   "nbconvert_exporter": "python",
   "pygments_lexer": "ipython3",
   "version": "3.10.6"
  }
 },
 "nbformat": 4,
 "nbformat_minor": 5
}
