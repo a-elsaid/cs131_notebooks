{
 "cells": [
  {
   "cell_type": "markdown",
   "id": "1d26dc1e-cac4-4672-947c-09cae1175205",
   "metadata": {},
   "source": [
    "# CS 131 - Chapter 3 "
   ]
  },
  {
   "cell_type": "markdown",
   "id": "56b80e2c-b99d-419f-87b8-1bc1294be502",
   "metadata": {},
   "source": [
    "## Part 1: Funtions"
   ]
  },
  {
   "cell_type": "markdown",
   "id": "c8ea18b7-731b-4915-9cb5-fd07e407e28f",
   "metadata": {},
   "source": [
    "### Today we are discussing:\n",
    "- Calling functions \n",
    "- Defining function"
   ]
  },
  {
   "cell_type": "markdown",
   "id": "993c370f-c0b2-4395-bd18-a61392cfdba5",
   "metadata": {},
   "source": [
    "### Review:\n",
    "- Functions are not a new thing to us\n",
    "- We have been using it in our previous sections\n",
    "- Some of the functions we used were:\n",
    "    - `reverse()`\n",
    "    - `list()`\n",
    "    - `sort()`\n",
    "    - `chr()`\n",
    "    - `ord()`\n",
    "    - `format()`\n",
    "    - `range()`\n",
    "    - `type()`\n",
    "    - `min()`\n",
    "    - `max()`\n",
    "    - `upper()`\n",
    "    - `lower()`\n",
    "    - `print()`"
   ]
  },
  {
   "cell_type": "markdown",
   "id": "3c80dae4-8abb-4088-ac23-19349845d423",
   "metadata": {},
   "source": [
    "- A function is:\n",
    "    - Piece (block) of resuable code\n",
    "    - Solves particular tasks "
   ]
  },
  {
   "cell_type": "markdown",
   "id": "6bcd50b5-3d04-420d-87cc-6a93fc1e830a",
   "metadata": {},
   "source": [
    "### lets consider the function sort:"
   ]
  },
  {
   "cell_type": "code",
   "execution_count": 30,
   "id": "9363f112-b164-44d6-9292-8bcb24ef33a2",
   "metadata": {},
   "outputs": [],
   "source": [
    "lst = [7, 4, 3, 0, 5, 6, 8, 1, 9, 2]"
   ]
  },
  {
   "cell_type": "markdown",
   "id": "592bbd08-d363-400e-a2cb-8fb73aa9854e",
   "metadata": {},
   "source": [
    "### Can we right a program to sort it ?"
   ]
  },
  {
   "cell_type": "code",
   "execution_count": 88,
   "id": "370e9b1b-c6d0-46e7-958a-bd68ffb8052f",
   "metadata": {},
   "outputs": [
    {
     "data": {
      "text/plain": [
       "[0, 1, 2, 3, 4, 5, 6, 7, 8, 9]"
      ]
     },
     "execution_count": 88,
     "metadata": {},
     "output_type": "execute_result"
    }
   ],
   "source": [
    "for i in range(len(lst)-1):\n",
    "    for j in range(i+1,len(lst)):\n",
    "        if lst[i]>lst[j]:\n",
    "            temp = lst[i]\n",
    "            lst[i] = lst[j]\n",
    "            lst[j] = temp"
   ]
  },
  {
   "cell_type": "code",
   "execution_count": 81,
   "id": "02d40abc-2680-46a3-b7e9-fbb974c73403",
   "metadata": {},
   "outputs": [],
   "source": [
    "from random import shuffle"
   ]
  },
  {
   "cell_type": "code",
   "execution_count": 112,
   "id": "5a062847-0c8a-4748-b04d-16c9a06b55b3",
   "metadata": {},
   "outputs": [
    {
     "name": "stdout",
     "output_type": "stream",
     "text": [
      "We Start with this list:            [7, 4, 3, 0, 5, 6, 8, 1, 9, 2]\n",
      "We sort it:                         [0, 1, 2, 3, 4, 5, 6, 7, 8, 9]\n",
      "Our work shuffles the list:         [3, 9, 7, 0, 2, 8, 4, 1, 6, 5]\n",
      "We sort it again:                   [0, 1, 2, 3, 4, 5, 6, 7, 8, 9]\n",
      "Our work shuffles the list again:   [9, 6, 2, 3, 0, 4, 5, 1, 8, 7]\n",
      "We sort it again:                   [0, 1, 2, 3, 4, 5, 6, 7, 8, 9]\n",
      "\n"
     ]
    }
   ],
   "source": [
    "lst = [7, 4, 3, 0, 5, 6, 8, 1, 9, 2]\n",
    "print (\"We Start with this list:\".ljust(35), lst)\n",
    "\n",
    "for i in range(len(lst)-1):\n",
    "    for j in range(i+1,len(lst)):\n",
    "        if lst[i]>lst[j]:\n",
    "            temp = lst[i]\n",
    "            lst[i] = lst[j]\n",
    "            lst[j] = temp\n",
    "\n",
    "print (\"We sort it:\".ljust(35), lst)\n",
    "\n",
    "\"\"\"\n",
    "DO SOME WORK \n",
    "WITH SOME LINES\n",
    "WHICH WILL CHANGE\n",
    "THE ORDER OF lst\n",
    "\"\"\"\n",
    "\n",
    "shuffle(lst)\n",
    "print (\"Our work shuffles the list:\".ljust(35), lst)\n",
    "\n",
    "\"\"\"\n",
    "THEN WE WANT TO\n",
    "SORT THE LIST AGAIN\n",
    "\"\"\"\n",
    "\n",
    "for i in range(len(lst)-1):\n",
    "    for j in range(i+1,len(lst)):\n",
    "        if lst[i]>lst[j]:\n",
    "            temp = lst[i]\n",
    "            lst[i] = lst[j]\n",
    "            lst[j] = temp\n",
    "\n",
    "print (\"We sort it again:\".ljust(35), lst)            \n",
    "\n",
    "\n",
    "############################################################\n",
    "\n",
    "\"\"\"\n",
    "DO SOME WORK \n",
    "WITH SOME LINES\n",
    "WHICH WILL CHANGE\n",
    "THE ORDER OF lst\n",
    "\"\"\"\n",
    "shuffle(lst)\n",
    "print (\"Our work shuffles the list again:\".ljust(35), lst)\n",
    "\n",
    "\"\"\"\n",
    "THEN WE WANT TO\n",
    "SORT THE LIST AGAIN\n",
    "\"\"\"\n",
    "\n",
    "for i in range(len(lst)-1):\n",
    "    for j in range(i+1,len(lst)):\n",
    "        if lst[i]>lst[j]:\n",
    "            temp = lst[i]\n",
    "            lst[i] = lst[j]\n",
    "            lst[j] = temp\n",
    "\n",
    "print (\"We sort it again:\".ljust(35), lst)\n",
    "\n",
    "############################################################\n",
    "\n",
    "\"\"\"\n",
    "    o\n",
    "    o\n",
    "    o\n",
    "    o\n",
    "    o\n",
    "\"\"\"\n",
    "print()"
   ]
  },
  {
   "cell_type": "code",
   "execution_count": 139,
   "id": "fe9cc93a-e745-4052-98c7-68a35151f4c7",
   "metadata": {},
   "outputs": [],
   "source": [
    "def my_sort(a):\n",
    "    for i in range(len(a)-1):\n",
    "        for j in range(i+1,len(a)):\n",
    "            if a[i]>a[j]:\n",
    "                temp = a[i]\n",
    "                a[i] = a[j]\n",
    "                a[j] = temp \n",
    "    print (\"List is SORTED in my_sort() Function\".center(66,\"*\"))"
   ]
  },
  {
   "cell_type": "code",
   "execution_count": 140,
   "id": "8dd3f4e8-9147-4c75-a3a2-534c48e08aed",
   "metadata": {},
   "outputs": [
    {
     "name": "stdout",
     "output_type": "stream",
     "text": [
      "We Start with this list:            [7, 4, 3, 0, 5, 6, 8, 1, 9, 2]\n",
      "***************List is SORTED in my_sort() Function***************\n",
      "We sort it:                         [0, 1, 2, 3, 4, 5, 6, 7, 8, 9]\n",
      "Our work shuffles the list:         [6, 5, 0, 7, 9, 3, 4, 8, 2, 1]\n",
      "***************List is SORTED in my_sort() Function***************\n",
      "We sort it again:                   [0, 1, 2, 3, 4, 5, 6, 7, 8, 9]\n",
      "Our work shuffles the list again:   [1, 5, 4, 2, 9, 0, 3, 6, 8, 7]\n",
      "***************List is SORTED in my_sort() Function***************\n",
      "We sort it again:                   [0, 1, 2, 3, 4, 5, 6, 7, 8, 9]\n",
      "\n"
     ]
    }
   ],
   "source": [
    "lst = [7, 4, 3, 0, 5, 6, 8, 1, 9, 2]\n",
    "print (\"We Start with this list:\".ljust(35), lst)\n",
    "\n",
    "my_sort(lst)\n",
    "\n",
    "print (\"We sort it:\".ljust(35), lst)\n",
    "\n",
    "\"\"\"\n",
    "DO SOME WORK \n",
    "WITH SOME LINES\n",
    "WHICH WILL CHANGE\n",
    "THE ORDER OF lst\n",
    "\"\"\"\n",
    "\n",
    "shuffle(lst)\n",
    "print (\"Our work shuffles the list:\".ljust(35), lst)\n",
    "\n",
    "\"\"\"\n",
    "THEN WE WANT TO\n",
    "SORT THE LIST AGAIN\n",
    "\"\"\"\n",
    "\n",
    "my_sort(lst)\n",
    "\n",
    "print (\"We sort it again:\".ljust(35), lst)            \n",
    "\n",
    "\n",
    "############################################################\n",
    "\n",
    "\"\"\"\n",
    "DO SOME WORK \n",
    "WITH SOME LINES\n",
    "WHICH WILL CHANGE\n",
    "THE ORDER OF lst\n",
    "\"\"\"\n",
    "shuffle(lst)\n",
    "print (\"Our work shuffles the list again:\".ljust(35), lst)\n",
    "\n",
    "\"\"\"\n",
    "THEN WE WANT TO\n",
    "SORT THE LIST AGAIN\n",
    "\"\"\"\n",
    "\n",
    "my_sort(lst)\n",
    "\n",
    "print (\"We sort it again:\".ljust(35), lst)\n",
    "\n",
    "############################################################\n",
    "\n",
    "\"\"\"\n",
    "    o\n",
    "    o\n",
    "    o\n",
    "    o\n",
    "    o\n",
    "\"\"\"\n",
    "print()"
   ]
  },
  {
   "cell_type": "markdown",
   "id": "6dad689a-30ad-4676-b806-0d60d560e03d",
   "metadata": {},
   "source": [
    "### Defining Funcitons\n",
    "\n",
    "```\n",
    "def <function_name> (<arg1_name>, <arg2_name>, ...):\n",
    "    <statement1>\n",
    "    <statement2>\n",
    "    <statement3>\n",
    "    .\n",
    "    .\n",
    "    .\n",
    "```"
   ]
  },
  {
   "cell_type": "code",
   "execution_count": 142,
   "id": "79d1c260-07a5-459a-8930-b03f7a0d12f6",
   "metadata": {},
   "outputs": [],
   "source": [
    "def times(x, y):\n",
    "    \"\"\"\n",
    "    Multiplies the 2 parameter a, b, and return the result\n",
    "    \"\"\"\n",
    "    z = x * y\n",
    "    return z"
   ]
  },
  {
   "cell_type": "code",
   "execution_count": 144,
   "id": "6c1dbc3e-32f7-4631-81c9-79fe23f7c127",
   "metadata": {},
   "outputs": [
    {
     "name": "stdout",
     "output_type": "stream",
     "text": [
      "30\n"
     ]
    }
   ],
   "source": [
    "a = times(10, 3)\n",
    "print(a)"
   ]
  },
  {
   "cell_type": "code",
   "execution_count": 145,
   "id": "97ec2c2f-6e36-4349-a7cf-8a140bb7b2e6",
   "metadata": {},
   "outputs": [],
   "source": [
    "def add(a,b):\n",
    "    \"\"\"\n",
    "    Add the 2 parameter a, b, and return the result\n",
    "    \"\"\"\n",
    "    c = a+b\n",
    "    return c"
   ]
  },
  {
   "cell_type": "code",
   "execution_count": 148,
   "id": "2b4a8ddd-52b7-48c9-bda3-5184476ea15c",
   "metadata": {},
   "outputs": [
    {
     "name": "stdout",
     "output_type": "stream",
     "text": [
      "11\n"
     ]
    }
   ],
   "source": [
    "print (add(3,8))"
   ]
  },
  {
   "cell_type": "code",
   "execution_count": 166,
   "id": "47d6bccf-dbf4-4bba-9117-c9cabb67157e",
   "metadata": {},
   "outputs": [
    {
     "name": "stdout",
     "output_type": "stream",
     "text": [
      "20\n",
      "hello\n"
     ]
    }
   ],
   "source": [
    "def changer (x,y):\n",
    "    x = 2      # changes local value of x only \n",
    "    y = \"hola\" # changes local value of y only\n",
    " \n",
    "a = 20\n",
    "b = \"hello\"\n",
    "changer(a,b)\n",
    "print(a)\n",
    "print(b)"
   ]
  },
  {
   "cell_type": "code",
   "execution_count": 170,
   "id": "52f3ad58-6443-4462-b453-985cd6788cb1",
   "metadata": {},
   "outputs": [
    {
     "name": "stdout",
     "output_type": "stream",
     "text": [
      "[88]\n"
     ]
    }
   ],
   "source": [
    "def changer2 (x):\n",
    "    x[0] = 88 # changes local value of x only \n",
    "\n",
    "a = [20]\n",
    "changer2(a)\n",
    "print(a)"
   ]
  },
  {
   "cell_type": "markdown",
   "id": "6e49759d-71d8-4b0d-974c-52814239ab1b",
   "metadata": {},
   "source": [
    "### Optional Arguments"
   ]
  },
  {
   "cell_type": "code",
   "execution_count": 173,
   "id": "b0d935d8-6e37-4f99-ae31-852672a7e40c",
   "metadata": {},
   "outputs": [
    {
     "name": "stdout",
     "output_type": "stream",
     "text": [
      "1 2 10 100\n",
      "1 2 3 4\n"
     ]
    }
   ],
   "source": [
    "def func1(a, b, c=10, d=100): \n",
    "    print (a, b, c, d)\n",
    "\n",
    "    \n",
    "func1(1,2) #1 2 10 100 \n",
    "\n",
    "func1(1,2,3,4) #1 2 3 4"
   ]
  },
  {
   "cell_type": "markdown",
   "id": "8c426452-a861-42f9-aec2-5ccfaf457219",
   "metadata": {},
   "source": [
    "### Important Notes\n",
    "- functions in Python has to return a value EVEN if they do not have a `return` statement:\n",
    "    - functions without `return` statement will return `None`\n",
    "- For OOProgrammers: There is not functions overloading in Python: **No functions can have the same name even if they have different arguments**"
   ]
  },
  {
   "cell_type": "markdown",
   "id": "a3a1d45b-cc3b-434c-a778-ba5713504702",
   "metadata": {},
   "source": [
    "### Toss Coin Example:"
   ]
  },
  {
   "cell_type": "code",
   "execution_count": 175,
   "id": "e12443ae-a80d-4142-b51b-f2cd763e4d31",
   "metadata": {},
   "outputs": [],
   "source": [
    "from random import randint"
   ]
  },
  {
   "cell_type": "code",
   "execution_count": 227,
   "id": "e5f8d52c-bf7f-4b33-b1a6-0b75571e2839",
   "metadata": {},
   "outputs": [],
   "source": [
    "def coin_toss():\n",
    "    if randint(0,1):\n",
    "        return \"HEADS\"\n",
    "    return \"TAILS\""
   ]
  },
  {
   "cell_type": "code",
   "execution_count": 243,
   "id": "33d0b2d4-764f-45e7-82e4-110a2ffd3088",
   "metadata": {},
   "outputs": [
    {
     "name": "stdout",
     "output_type": "stream",
     "text": [
      "HEADS\n",
      "TAILS\n",
      "HEADS\n"
     ]
    }
   ],
   "source": [
    "for i in range(3):\n",
    "    print(coin_toss())"
   ]
  },
  {
   "cell_type": "markdown",
   "id": "f638d43a-86ec-48cf-ab72-d6c83d3d7ef1",
   "metadata": {},
   "source": [
    "#### Things to note:\n",
    "- coin does not have arguments\n",
    "- the `if` statement does not have an `else` statement\n",
    "- when `randint()` returns 1, the `if` conditions evaluates to `True` and the `return \"HEADS\"` statement is executed\n",
    "- if `return \"HEADS\"` is executed, `return` terminates the function ann the rest of the function body is not executed\n",
    "- if `randint()` returns 0, the `if` conditions evaluates to `False` and the `return \"HEADS\"` statement is **NOT** executed, and\n",
    "- the next line is executed: the `return \"TAILS\"` statement "
   ]
  },
  {
   "cell_type": "markdown",
   "id": "e6b7f230-4714-4683-9200-ea6bc2236bad",
   "metadata": {},
   "source": [
    "## CS Circle assignments:\n",
    "- 2: Functions: 5 questions\n",
    "- 2X: Extra Practice: 5 questions"
   ]
  }
 ],
 "metadata": {
  "kernelspec": {
   "display_name": "Python 3 (ipykernel)",
   "language": "python",
   "name": "python3"
  },
  "language_info": {
   "codemirror_mode": {
    "name": "ipython",
    "version": 3
   },
   "file_extension": ".py",
   "mimetype": "text/x-python",
   "name": "python",
   "nbconvert_exporter": "python",
   "pygments_lexer": "ipython3",
   "version": "3.10.6"
  }
 },
 "nbformat": 4,
 "nbformat_minor": 5
}
