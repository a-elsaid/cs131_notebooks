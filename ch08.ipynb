{
 "cells": [
  {
   "cell_type": "markdown",
   "id": "0a224e91",
   "metadata": {},
   "source": [
    "# CSC 131 - Chapter 8"
   ]
  },
  {
   "cell_type": "markdown",
   "id": "926cb9d7",
   "metadata": {},
   "source": [
    "## Review\n",
    "### Functions:\n",
    "- Calling Functions\n",
    "- Defining Functions\n",
    "- Abstraction\n",
    "- Decomposition\n",
    "- global scope\n",
    "- local scope\n",
    "- can access global scope varaibales, but cannot change it\n",
    "- cannot access local scope variables in global scopes\n",
    "#### Recursion:\n",
    "    - recursion rules:\n",
    "        1. basic condition \n",
    "        2. basic condition reachable\n",
    "        3. problem breakable to smaller problems \n",
    "    - linear recurssion vs. tree recursion "
   ]
  },
  {
   "cell_type": "markdown",
   "id": "4aa80fd4",
   "metadata": {},
   "source": [
    "## Reading-from / Writing-to Text Files\n",
    "- So far, data we used is only available while program is running... once program terminates data is wipped from memory\n",
    "- For information to live between program runs, we need to save them to a more permenent medium; hard-disk\n",
    "- We can save the data as character; Text Files, or as binary data; Binary File\n",
    "\n",
    "### Text Files vs. Binary Files\n",
    "- Text files contain only character values, while for contract, binary files can have anytype of values.\n",
    "- Text files can be open by any text-editor \n",
    "- Binary files needs a program to decode the data \n",
    "\n",
    "### Experiment: \n",
    "- open to the folder you created for lab16 \n",
    "- search for a file called `lab16.pyc`\n",
    "- try to open that file with a any word-editor and take a look at it\n",
    "- **you will notice:**\n",
    "    - some of the file content is readable, some not, and the file scrabled\n",
    "- that file was binary file. The parts of the file you could read are the character parts of the file \n",
    "- Note: if you didn't find the `.pyc` file in the same folder: go to `__pycache__` folder and you will find the file there"
   ]
  },
  {
   "cell_type": "markdown",
   "id": "bcd98ec1",
   "metadata": {},
   "source": [
    "## Using Text Files\n",
    "- openning a file \n",
    "- reading from a file\n",
    "- writting to a file\n",
    "- closing a file"
   ]
  },
  {
   "cell_type": "markdown",
   "id": "361a127e",
   "metadata": {},
   "source": [
    "### `open(arg1, arg2)`\n",
    "#### - arg1: `<file_path+file_name>`\n",
    "#### - arg2: mode of openning the file"
   ]
  },
  {
   "cell_type": "markdown",
   "id": "c22cb544",
   "metadata": {},
   "source": [
    "#### **Open for Reading**"
   ]
  },
  {
   "cell_type": "code",
   "execution_count": 17,
   "id": "9a69ff80",
   "metadata": {},
   "outputs": [],
   "source": [
    "input_file = open('ch08_txt1.txt', 'r')"
   ]
  },
  {
   "cell_type": "code",
   "execution_count": 18,
   "id": "782fb943",
   "metadata": {},
   "outputs": [
    {
     "ename": "FileNotFoundError",
     "evalue": "[Errno 2] No such file or directory: 'ch08_txt0.txt'",
     "output_type": "error",
     "traceback": [
      "\u001b[0;31m---------------------------------------------------------------------------\u001b[0m",
      "\u001b[0;31mFileNotFoundError\u001b[0m                         Traceback (most recent call last)",
      "Input \u001b[0;32mIn [18]\u001b[0m, in \u001b[0;36m<cell line: 1>\u001b[0;34m()\u001b[0m\n\u001b[0;32m----> 1\u001b[0m input_file \u001b[38;5;241m=\u001b[39m \u001b[38;5;28;43mopen\u001b[39;49m\u001b[43m(\u001b[49m\u001b[38;5;124;43m'\u001b[39;49m\u001b[38;5;124;43mch08_txt0.txt\u001b[39;49m\u001b[38;5;124;43m'\u001b[39;49m\u001b[43m,\u001b[49m\u001b[43m \u001b[49m\u001b[38;5;124;43m'\u001b[39;49m\u001b[38;5;124;43mr\u001b[39;49m\u001b[38;5;124;43m'\u001b[39;49m\u001b[43m)\u001b[49m\n",
      "\u001b[0;31mFileNotFoundError\u001b[0m: [Errno 2] No such file or directory: 'ch08_txt0.txt'"
     ]
    }
   ],
   "source": [
    "input_file = open('ch08_txt0.txt', 'r')      # I/O Error"
   ]
  },
  {
   "cell_type": "markdown",
   "id": "1add9f59",
   "metadata": {},
   "source": [
    "### `close()`\n",
    "#### when program is finished reading the file, it should be closed by calling the close method"
   ]
  },
  {
   "cell_type": "code",
   "execution_count": 33,
   "id": "6d8ddc48",
   "metadata": {},
   "outputs": [],
   "source": [
    "input_file.close()"
   ]
  },
  {
   "cell_type": "markdown",
   "id": "37afe5e0",
   "metadata": {},
   "source": [
    "#### once closed, the file cannot be accessed again\n",
    "#### file can be reopen using `open()` ... each time it opens, it will start from the beginning of the file"
   ]
  },
  {
   "cell_type": "markdown",
   "id": "d446cad8",
   "metadata": {},
   "source": [
    "### Try it:\n",
    "#### create a file called `ch8_data1.txt` with this content:\n",
    "\n",
    "    line 0: This is File ch8_data1 file\n",
    "    line 1\n",
    "    line 2\n",
    "    line 3\n",
    "    line 4\n",
    "\n",
    "#### try running the script below using `ch8_data1.txt` and `ch8_data2.txt`"
   ]
  },
  {
   "cell_type": "code",
   "execution_count": 39,
   "id": "f3844f66",
   "metadata": {},
   "outputs": [
    {
     "name": "stdout",
     "output_type": "stream",
     "text": [
      "Enter File Name: df\n"
     ]
    },
    {
     "ename": "FileNotFoundError",
     "evalue": "[Errno 2] No such file or directory: 'df'",
     "output_type": "error",
     "traceback": [
      "\u001b[0;31m---------------------------------------------------------------------------\u001b[0m",
      "\u001b[0;31mFileNotFoundError\u001b[0m                         Traceback (most recent call last)",
      "Input \u001b[0;32mIn [39]\u001b[0m, in \u001b[0;36m<cell line: 2>\u001b[0;34m()\u001b[0m\n\u001b[1;32m      1\u001b[0m file_name \u001b[38;5;241m=\u001b[39m \u001b[38;5;28minput\u001b[39m(\u001b[38;5;124m'\u001b[39m\u001b[38;5;124mEnter File Name: \u001b[39m\u001b[38;5;124m'\u001b[39m)\n\u001b[0;32m----> 2\u001b[0m input_file \u001b[38;5;241m=\u001b[39m \u001b[38;5;28;43mopen\u001b[39;49m\u001b[43m(\u001b[49m\u001b[43mfile_name\u001b[49m\u001b[43m,\u001b[49m\u001b[43m \u001b[49m\u001b[38;5;124;43m'\u001b[39;49m\u001b[38;5;124;43mr\u001b[39;49m\u001b[38;5;124;43m'\u001b[39;49m\u001b[43m)\u001b[49m\n\u001b[1;32m      3\u001b[0m input_file\u001b[38;5;241m.\u001b[39mclose()\n",
      "\u001b[0;31mFileNotFoundError\u001b[0m: [Errno 2] No such file or directory: 'df'"
     ]
    }
   ],
   "source": [
    "file_name = input('Enter File Name: ')\n",
    "input_file = open(file_name, 'r')\n",
    "input_file.close()"
   ]
  },
  {
   "cell_type": "markdown",
   "id": "304c05a2",
   "metadata": {},
   "source": [
    "#### Open for Writing"
   ]
  },
  {
   "cell_type": "code",
   "execution_count": 21,
   "id": "ca03967d",
   "metadata": {},
   "outputs": [],
   "source": [
    "output_file = open('ch08_txt111.txt', 'w')\n",
    "output_file.close()"
   ]
  },
  {
   "cell_type": "markdown",
   "id": "701d16bf",
   "metadata": {},
   "source": [
    "- #### this creates an empty file on the hard-disk at the current folder\n",
    "- #### open the file with a word-editor, add a line, save it, and close the file\n",
    "- #### open the file again with a word editor to make sure that the like you added was saved\n",
    "- #### run the script above again, then reopen the file with the word-editor... the line disappears "
   ]
  },
  {
   "cell_type": "markdown",
   "id": "31a65d94",
   "metadata": {},
   "source": [
    "#### Reading Text Files: `readline()`\n",
    "Reads the files line by line exploiting the `\\n` character"
   ]
  },
  {
   "cell_type": "code",
   "execution_count": 41,
   "id": "7d50e7c8",
   "metadata": {},
   "outputs": [
    {
     "name": "stdout",
     "output_type": "stream",
     "text": [
      "line 0: This is File No.1.\n",
      "\n",
      "line 1\n",
      "\n",
      "line 2\n",
      "\n",
      "line 3\n",
      "\n",
      "line 4\n",
      "\n"
     ]
    }
   ],
   "source": [
    "input_file = open('ch08_txt1.txt', 'r')\n",
    "line = input_file.readline()\n",
    "while line!='':\n",
    "    print(line)\n",
    "    line = input_file.readline()\n",
    "input_file.close()"
   ]
  },
  {
   "cell_type": "code",
   "execution_count": 3,
   "id": "408ec897",
   "metadata": {},
   "outputs": [
    {
     "name": "stdout",
     "output_type": "stream",
     "text": [
      "line 0: This is File No.1.\n",
      "\n",
      "line 1\n",
      "\n",
      "line 2\n",
      "\n",
      "line 3\n",
      "\n",
      "line 4\n",
      "\n"
     ]
    }
   ],
   "source": [
    "input_file = open('ch08_txt1.txt', 'r')\n",
    "for line in input_file:\n",
    "    print (line)\n",
    "input_file.close()"
   ]
  },
  {
   "cell_type": "markdown",
   "id": "ad198e4d",
   "metadata": {},
   "source": [
    "#### Reading Text Files: `read()`"
   ]
  },
  {
   "cell_type": "code",
   "execution_count": 28,
   "id": "2d7a61ba",
   "metadata": {},
   "outputs": [
    {
     "name": "stdout",
     "output_type": "stream",
     "text": [
      "line 0: This is File No.1.\n",
      "line 1\n",
      "line 2\n",
      "line 3\n",
      "line 4\n",
      "Parks"
     ]
    }
   ],
   "source": [
    "input_file = open('ch08_txt1.txt', 'r')\n",
    "print(input_file.read(), end=\"Parks\")\n",
    "input_file.close()"
   ]
  },
  {
   "cell_type": "markdown",
   "id": "d14620a1",
   "metadata": {},
   "source": [
    "#### Writing Text Files: `write()`"
   ]
  },
  {
   "cell_type": "code",
   "execution_count": 9,
   "id": "e8a4b247",
   "metadata": {},
   "outputs": [],
   "source": [
    "input_file  = open('ch08_txt1.txt', 'r')\n",
    "output_file = open('ch08_txt1.out', 'w')\n",
    "for line in input_file:\n",
    "    output_file.write(line)\n",
    "input_file.close()\n",
    "output_file.close()"
   ]
  },
  {
   "cell_type": "markdown",
   "id": "6d36d38c",
   "metadata": {},
   "source": [
    "- when  writing  to  a  file,  data  is  first placed in an area of memory called a buffer. \n",
    "- Only when the buffer becomes full is the data actually written to the file. (for efficiency) \n",
    "- `close()` forces the flushes the buffer content to the file when writting"
   ]
  },
  {
   "cell_type": "markdown",
   "id": "4213c0ff",
   "metadata": {},
   "source": [
    "## Exception Handling \n",
    "- Various errors can occur when excuting a program. \n",
    "- If an error is counted for, the programmer can `raise` and exception for that error\n",
    "- exceptions are like note/messages that an error occured\n",
    "- if errors are **not** *\"caught\"* and *\"handled\"* by the programmer, the interpreter will catch them and terminate the program: **the program will crach**\n",
    "- if the errors are *\"caught\"* and *\"handled\"* by the programmer, the programmer can design a solutions that avoid the termination of the program: **avoid the crashing of the program**\n",
    "- So **exceptions** are objects that are *rasied* by the program when an unexpected or exceptional situation occurs.\n",
    "- Python has predefined set of exceptions:"
   ]
  },
  {
   "cell_type": "markdown",
   "id": "1a1e1591",
   "metadata": {},
   "source": [
    "| Exception | Discription |\n",
    "| :--- | :--- |\n",
    "| `ImportError`: | raised when import statement fails |\n",
    "| `IndexError`:  | raised when sequence index is out of range |\n",
    "| `NameError`:   | raised when a local or global name is not found|\n",
    "|`TypeError`     | raised when an operation or function is applied to an object of inappropriate type |\n",
    "| `ValueError`   | raise when a built-in opeartion or function is applied to inapproriate value |\n",
    "| `IOError`      | raise when input/output opration fails \n",
    "| `MemoryError`: | raised when an operation runs out of memory |\n",
    "\n",
    "\n",
    "for more standard exceptions: https://docs.python.org/3/library/exceptions.html#MemoryError"
   ]
  },
  {
   "cell_type": "code",
   "execution_count": 29,
   "id": "17e8eaae",
   "metadata": {},
   "outputs": [
    {
     "ename": "ModuleNotFoundError",
     "evalue": "No module named 'maths'",
     "output_type": "error",
     "traceback": [
      "\u001b[0;31m---------------------------------------------------------------------------\u001b[0m",
      "\u001b[0;31mModuleNotFoundError\u001b[0m                       Traceback (most recent call last)",
      "Input \u001b[0;32mIn [29]\u001b[0m, in \u001b[0;36m<cell line: 1>\u001b[0;34m()\u001b[0m\n\u001b[0;32m----> 1\u001b[0m \u001b[38;5;28;01mimport\u001b[39;00m \u001b[38;5;21;01mmaths\u001b[39;00m\n",
      "\u001b[0;31mModuleNotFoundError\u001b[0m: No module named 'maths'"
     ]
    }
   ],
   "source": [
    "import maths"
   ]
  },
  {
   "cell_type": "markdown",
   "id": "5dce9caa",
   "metadata": {},
   "source": [
    "#### Raising exception is a way a function can use to notify the its \"client\" that a problem has occured\n",
    "**Example:** \n",
    "- the function `isEven` takes numric values as input from the user. If a string is passed, the function can handle it internally by asking the user to enter a new entry that is numric, or it can raise an error to the client program that it is facing a problem.\n",
    "- if the client program does not `handle` the exception raised by the isEven function, the interpreter will kick in, terminate the program, and print the exception to the screen\n",
    "- The exception can propagate from one client to its client till is handled at some point or reaches the top level client without being handled, and then the intepreter will take care of of the exception"
   ]
  },
  {
   "cell_type": "code",
   "execution_count": 33,
   "id": "14e18025",
   "metadata": {},
   "outputs": [],
   "source": [
    "def isEven(a):\n",
    "    if type(a) not in [int, float]:\n",
    "        raise TypeError(f\"Variable 'a' type is not int or float... it is {type(a)}\")\n",
    "    return not a%2    "
   ]
  },
  {
   "cell_type": "code",
   "execution_count": 34,
   "id": "258cf3f7",
   "metadata": {},
   "outputs": [],
   "source": [
    "def fixValue(a):\n",
    "    if isEven(a):\n",
    "        return 100\n",
    "    else:\n",
    "        return 50"
   ]
  },
  {
   "cell_type": "code",
   "execution_count": 31,
   "id": "b509d380",
   "metadata": {},
   "outputs": [
    {
     "ename": "NameError",
     "evalue": "name 'isEven' is not defined",
     "output_type": "error",
     "traceback": [
      "\u001b[0;31m---------------------------------------------------------------------------\u001b[0m",
      "\u001b[0;31mNameError\u001b[0m                                 Traceback (most recent call last)",
      "Input \u001b[0;32mIn [31]\u001b[0m, in \u001b[0;36m<cell line: 4>\u001b[0;34m()\u001b[0m\n\u001b[1;32m      2\u001b[0m y \u001b[38;5;241m=\u001b[39m (x\u001b[38;5;241m*\u001b[39m\u001b[38;5;241m*\u001b[39mx\u001b[38;5;241m+\u001b[39m\u001b[38;5;241m3.1\u001b[39m)\n\u001b[1;32m      3\u001b[0m z \u001b[38;5;241m=\u001b[39m \u001b[38;5;124m\"\u001b[39m\u001b[38;5;124mabc\u001b[39m\u001b[38;5;124m\"\u001b[39m\n\u001b[0;32m----> 4\u001b[0m t \u001b[38;5;241m=\u001b[39m \u001b[43mfixValue\u001b[49m\u001b[43m(\u001b[49m\u001b[43mz\u001b[49m\u001b[43m)\u001b[49m\n\u001b[1;32m      5\u001b[0m t\u001b[38;5;241m+\u001b[39m\u001b[38;5;241m=\u001b[39m\u001b[38;5;241m3\u001b[39m\n\u001b[1;32m      6\u001b[0m \u001b[38;5;28mprint\u001b[39m(t)\n",
      "Input \u001b[0;32mIn [30]\u001b[0m, in \u001b[0;36mfixValue\u001b[0;34m(a)\u001b[0m\n\u001b[1;32m      1\u001b[0m \u001b[38;5;28;01mdef\u001b[39;00m \u001b[38;5;21mfixValue\u001b[39m(a):\n\u001b[0;32m----> 2\u001b[0m     \u001b[38;5;28;01mif\u001b[39;00m \u001b[43misEven\u001b[49m(a):\n\u001b[1;32m      3\u001b[0m         \u001b[38;5;28;01mreturn\u001b[39;00m \u001b[38;5;241m100\u001b[39m\n\u001b[1;32m      4\u001b[0m     \u001b[38;5;28;01melse\u001b[39;00m:\n",
      "\u001b[0;31mNameError\u001b[0m: name 'isEven' is not defined"
     ]
    }
   ],
   "source": [
    "x = 3\n",
    "y = (x**x+3.1)\n",
    "z = \"abc\"\n",
    "t = fixValue(z)\n",
    "t+=3\n",
    "print(t)"
   ]
  },
  {
   "cell_type": "code",
   "execution_count": 37,
   "id": "1448d0ca",
   "metadata": {},
   "outputs": [
    {
     "name": "stdout",
     "output_type": "stream",
     "text": [
      "Error: Variable 'a' type is not int or float... it is <class 'str'>\n",
      "Do you want to use defult min value: 3.1 (0: no, 1:yes)? 0\n"
     ]
    },
    {
     "ename": "TypeError",
     "evalue": "",
     "output_type": "error",
     "traceback": [
      "\u001b[0;31m---------------------------------------------------------------------------\u001b[0m",
      "\u001b[0;31mTypeError\u001b[0m                                 Traceback (most recent call last)",
      "Input \u001b[0;32mIn [37]\u001b[0m, in \u001b[0;36m<cell line: 4>\u001b[0;34m()\u001b[0m\n\u001b[1;32m      4\u001b[0m \u001b[38;5;28;01mtry\u001b[39;00m:\n\u001b[0;32m----> 5\u001b[0m     t\u001b[38;5;241m=\u001b[39m\u001b[43mfixValue\u001b[49m\u001b[43m(\u001b[49m\u001b[43mz\u001b[49m\u001b[43m)\u001b[49m\n\u001b[1;32m      6\u001b[0m \u001b[38;5;28;01mexcept\u001b[39;00m \u001b[38;5;167;01mTypeError\u001b[39;00m \u001b[38;5;28;01mas\u001b[39;00m err_msg:\n",
      "Input \u001b[0;32mIn [34]\u001b[0m, in \u001b[0;36mfixValue\u001b[0;34m(a)\u001b[0m\n\u001b[1;32m      1\u001b[0m \u001b[38;5;28;01mdef\u001b[39;00m \u001b[38;5;21mfixValue\u001b[39m(a):\n\u001b[0;32m----> 2\u001b[0m     \u001b[38;5;28;01mif\u001b[39;00m \u001b[43misEven\u001b[49m\u001b[43m(\u001b[49m\u001b[43ma\u001b[49m\u001b[43m)\u001b[49m:\n\u001b[1;32m      3\u001b[0m         \u001b[38;5;28;01mreturn\u001b[39;00m \u001b[38;5;241m100\u001b[39m\n",
      "Input \u001b[0;32mIn [33]\u001b[0m, in \u001b[0;36misEven\u001b[0;34m(a)\u001b[0m\n\u001b[1;32m      2\u001b[0m \u001b[38;5;28;01mif\u001b[39;00m \u001b[38;5;28mtype\u001b[39m(a) \u001b[38;5;129;01mnot\u001b[39;00m \u001b[38;5;129;01min\u001b[39;00m [\u001b[38;5;28mint\u001b[39m, \u001b[38;5;28mfloat\u001b[39m]:\n\u001b[0;32m----> 3\u001b[0m     \u001b[38;5;28;01mraise\u001b[39;00m \u001b[38;5;167;01mTypeError\u001b[39;00m(\u001b[38;5;124mf\u001b[39m\u001b[38;5;124m\"\u001b[39m\u001b[38;5;124mVariable \u001b[39m\u001b[38;5;124m'\u001b[39m\u001b[38;5;124ma\u001b[39m\u001b[38;5;124m'\u001b[39m\u001b[38;5;124m type is not int or float... it is \u001b[39m\u001b[38;5;132;01m{\u001b[39;00m\u001b[38;5;28mtype\u001b[39m(a)\u001b[38;5;132;01m}\u001b[39;00m\u001b[38;5;124m\"\u001b[39m)\n\u001b[1;32m      4\u001b[0m \u001b[38;5;28;01mreturn\u001b[39;00m \u001b[38;5;129;01mnot\u001b[39;00m a\u001b[38;5;241m%\u001b[39m\u001b[38;5;241m2\u001b[39m\n",
      "\u001b[0;31mTypeError\u001b[0m: Variable 'a' type is not int or float... it is <class 'str'>",
      "\nDuring handling of the above exception, another exception occurred:\n",
      "\u001b[0;31mTypeError\u001b[0m                                 Traceback (most recent call last)",
      "Input \u001b[0;32mIn [37]\u001b[0m, in \u001b[0;36m<cell line: 4>\u001b[0;34m()\u001b[0m\n\u001b[1;32m     10\u001b[0m         t \u001b[38;5;241m=\u001b[39m \u001b[38;5;241m3.1\u001b[39m\n\u001b[1;32m     11\u001b[0m     \u001b[38;5;28;01melse\u001b[39;00m:\n\u001b[0;32m---> 12\u001b[0m         \u001b[38;5;28;01mraise\u001b[39;00m \u001b[38;5;167;01mTypeError\u001b[39;00m\n\u001b[1;32m     13\u001b[0m t \u001b[38;5;241m=\u001b[39m fixValue(y)\n\u001b[1;32m     14\u001b[0m t\u001b[38;5;241m+\u001b[39m\u001b[38;5;241m=\u001b[39m\u001b[38;5;241m3\u001b[39m\n",
      "\u001b[0;31mTypeError\u001b[0m: "
     ]
    }
   ],
   "source": [
    "x = 3\n",
    "y = (x**x+3.1)\n",
    "z = \"abc\"\n",
    "try:\n",
    "    t=fixValue(z)\n",
    "except TypeError as err_msg:\n",
    "    print(f\"Error: {err_msg}\")\n",
    "    x = int(input(\"Do you want to use defult min value: 3.1 (0: no, 1:yes)? \"))\n",
    "    if x:\n",
    "        t = 3.1\n",
    "    else:\n",
    "        raise TypeError\n",
    "t = fixValue(y)\n",
    "t+=3\n",
    "\n",
    "print(f\"The t value is: {t}\")    "
   ]
  },
  {
   "cell_type": "markdown",
   "id": "da5452d2",
   "metadata": {},
   "source": [
    "#### So what happens if the file we are trying to open does not exist?"
   ]
  },
  {
   "cell_type": "code",
   "execution_count": 38,
   "id": "58bc8ed0",
   "metadata": {},
   "outputs": [
    {
     "name": "stdout",
     "output_type": "stream",
     "text": [
      "Enter File Name: dfaop'i\n"
     ]
    },
    {
     "ename": "FileNotFoundError",
     "evalue": "[Errno 2] No such file or directory: \"dfaop'i\"",
     "output_type": "error",
     "traceback": [
      "\u001b[0;31m---------------------------------------------------------------------------\u001b[0m",
      "\u001b[0;31mFileNotFoundError\u001b[0m                         Traceback (most recent call last)",
      "Input \u001b[0;32mIn [38]\u001b[0m, in \u001b[0;36m<cell line: 2>\u001b[0;34m()\u001b[0m\n\u001b[1;32m      1\u001b[0m file_name \u001b[38;5;241m=\u001b[39m \u001b[38;5;28minput\u001b[39m(\u001b[38;5;124m'\u001b[39m\u001b[38;5;124mEnter File Name: \u001b[39m\u001b[38;5;124m'\u001b[39m)\n\u001b[0;32m----> 2\u001b[0m input_file \u001b[38;5;241m=\u001b[39m \u001b[38;5;28;43mopen\u001b[39;49m\u001b[43m(\u001b[49m\u001b[43mfile_name\u001b[49m\u001b[43m,\u001b[49m\u001b[43m \u001b[49m\u001b[38;5;124;43m'\u001b[39;49m\u001b[38;5;124;43mr\u001b[39;49m\u001b[38;5;124;43m'\u001b[39;49m\u001b[43m)\u001b[49m\n\u001b[1;32m      3\u001b[0m input_file\u001b[38;5;241m.\u001b[39mclose()\n",
      "\u001b[0;31mFileNotFoundError\u001b[0m: [Errno 2] No such file or directory: \"dfaop'i\""
     ]
    }
   ],
   "source": [
    "file_name = input('Enter File Name: ')\n",
    "input_file = open(file_name, 'r')\n",
    "input_file.close()"
   ]
  },
  {
   "cell_type": "code",
   "execution_count": 40,
   "id": "51330a4b",
   "metadata": {},
   "outputs": [
    {
     "name": "stdout",
     "output_type": "stream",
     "text": [
      "Enter File Name: fdada\n",
      "Error: [Errno 2] No such file or directory: 'xyz.pdf'\n"
     ]
    },
    {
     "ename": "KeyboardInterrupt",
     "evalue": "Interrupted by user",
     "output_type": "error",
     "traceback": [
      "\u001b[0;31m---------------------------------------------------------------------------\u001b[0m",
      "\u001b[0;31mKeyboardInterrupt\u001b[0m                         Traceback (most recent call last)",
      "Input \u001b[0;32mIn [40]\u001b[0m, in \u001b[0;36m<cell line: 2>\u001b[0;34m()\u001b[0m\n\u001b[1;32m      4\u001b[0m \u001b[38;5;28;01mexcept\u001b[39;00m \u001b[38;5;167;01mFileNotFoundError\u001b[39;00m \u001b[38;5;28;01mas\u001b[39;00m err_msg:\n\u001b[1;32m      5\u001b[0m     \u001b[38;5;28mprint\u001b[39m (\u001b[38;5;124mf\u001b[39m\u001b[38;5;124m\"\u001b[39m\u001b[38;5;124mError: \u001b[39m\u001b[38;5;132;01m{\u001b[39;00merr_msg\u001b[38;5;132;01m}\u001b[39;00m\u001b[38;5;124m\"\u001b[39m)\n\u001b[0;32m----> 6\u001b[0m     file_name \u001b[38;5;241m=\u001b[39m \u001b[38;5;28;43minput\u001b[39;49m\u001b[43m(\u001b[49m\u001b[38;5;124;43m'\u001b[39;49m\u001b[38;5;124;43mEnter File Name: \u001b[39;49m\u001b[38;5;124;43m'\u001b[39;49m\u001b[43m)\u001b[49m\n\u001b[1;32m      7\u001b[0m     input_file \u001b[38;5;241m=\u001b[39m \u001b[38;5;28mopen\u001b[39m(\u001b[38;5;124m\"\u001b[39m\u001b[38;5;124mxyz.pdf\u001b[39m\u001b[38;5;124m\"\u001b[39m, \u001b[38;5;124m'\u001b[39m\u001b[38;5;124mr\u001b[39m\u001b[38;5;124m'\u001b[39m)    \n\u001b[1;32m      8\u001b[0m \u001b[38;5;28;01mexcept\u001b[39;00m:\n",
      "File \u001b[0;32m/Library/Frameworks/Python.framework/Versions/3.10/lib/python3.10/site-packages/ipykernel/kernelbase.py:1177\u001b[0m, in \u001b[0;36mKernel.raw_input\u001b[0;34m(self, prompt)\u001b[0m\n\u001b[1;32m   1173\u001b[0m \u001b[38;5;28;01mif\u001b[39;00m \u001b[38;5;129;01mnot\u001b[39;00m \u001b[38;5;28mself\u001b[39m\u001b[38;5;241m.\u001b[39m_allow_stdin:\n\u001b[1;32m   1174\u001b[0m     \u001b[38;5;28;01mraise\u001b[39;00m StdinNotImplementedError(\n\u001b[1;32m   1175\u001b[0m         \u001b[38;5;124m\"\u001b[39m\u001b[38;5;124mraw_input was called, but this frontend does not support input requests.\u001b[39m\u001b[38;5;124m\"\u001b[39m\n\u001b[1;32m   1176\u001b[0m     )\n\u001b[0;32m-> 1177\u001b[0m \u001b[38;5;28;01mreturn\u001b[39;00m \u001b[38;5;28;43mself\u001b[39;49m\u001b[38;5;241;43m.\u001b[39;49m\u001b[43m_input_request\u001b[49m\u001b[43m(\u001b[49m\n\u001b[1;32m   1178\u001b[0m \u001b[43m    \u001b[49m\u001b[38;5;28;43mstr\u001b[39;49m\u001b[43m(\u001b[49m\u001b[43mprompt\u001b[49m\u001b[43m)\u001b[49m\u001b[43m,\u001b[49m\n\u001b[1;32m   1179\u001b[0m \u001b[43m    \u001b[49m\u001b[38;5;28;43mself\u001b[39;49m\u001b[38;5;241;43m.\u001b[39;49m\u001b[43m_parent_ident\u001b[49m\u001b[43m[\u001b[49m\u001b[38;5;124;43m\"\u001b[39;49m\u001b[38;5;124;43mshell\u001b[39;49m\u001b[38;5;124;43m\"\u001b[39;49m\u001b[43m]\u001b[49m\u001b[43m,\u001b[49m\n\u001b[1;32m   1180\u001b[0m \u001b[43m    \u001b[49m\u001b[38;5;28;43mself\u001b[39;49m\u001b[38;5;241;43m.\u001b[39;49m\u001b[43mget_parent\u001b[49m\u001b[43m(\u001b[49m\u001b[38;5;124;43m\"\u001b[39;49m\u001b[38;5;124;43mshell\u001b[39;49m\u001b[38;5;124;43m\"\u001b[39;49m\u001b[43m)\u001b[49m\u001b[43m,\u001b[49m\n\u001b[1;32m   1181\u001b[0m \u001b[43m    \u001b[49m\u001b[43mpassword\u001b[49m\u001b[38;5;241;43m=\u001b[39;49m\u001b[38;5;28;43;01mFalse\u001b[39;49;00m\u001b[43m,\u001b[49m\n\u001b[1;32m   1182\u001b[0m \u001b[43m\u001b[49m\u001b[43m)\u001b[49m\n",
      "File \u001b[0;32m/Library/Frameworks/Python.framework/Versions/3.10/lib/python3.10/site-packages/ipykernel/kernelbase.py:1219\u001b[0m, in \u001b[0;36mKernel._input_request\u001b[0;34m(self, prompt, ident, parent, password)\u001b[0m\n\u001b[1;32m   1216\u001b[0m             \u001b[38;5;28;01mbreak\u001b[39;00m\n\u001b[1;32m   1217\u001b[0m \u001b[38;5;28;01mexcept\u001b[39;00m \u001b[38;5;167;01mKeyboardInterrupt\u001b[39;00m:\n\u001b[1;32m   1218\u001b[0m     \u001b[38;5;66;03m# re-raise KeyboardInterrupt, to truncate traceback\u001b[39;00m\n\u001b[0;32m-> 1219\u001b[0m     \u001b[38;5;28;01mraise\u001b[39;00m \u001b[38;5;167;01mKeyboardInterrupt\u001b[39;00m(\u001b[38;5;124m\"\u001b[39m\u001b[38;5;124mInterrupted by user\u001b[39m\u001b[38;5;124m\"\u001b[39m) \u001b[38;5;28;01mfrom\u001b[39;00m \u001b[38;5;28mNone\u001b[39m\n\u001b[1;32m   1220\u001b[0m \u001b[38;5;28;01mexcept\u001b[39;00m \u001b[38;5;167;01mException\u001b[39;00m:\n\u001b[1;32m   1221\u001b[0m     \u001b[38;5;28mself\u001b[39m\u001b[38;5;241m.\u001b[39mlog\u001b[38;5;241m.\u001b[39mwarning(\u001b[38;5;124m\"\u001b[39m\u001b[38;5;124mInvalid Message:\u001b[39m\u001b[38;5;124m\"\u001b[39m, exc_info\u001b[38;5;241m=\u001b[39m\u001b[38;5;28;01mTrue\u001b[39;00m)\n",
      "\u001b[0;31mKeyboardInterrupt\u001b[0m: Interrupted by user"
     ]
    }
   ],
   "source": [
    "file_name = input('Enter File Name: ')\n",
    "try:\n",
    "    input_file = open(\"xyz.pdf\", 'r')\n",
    "except FileNotFoundError as err_msg:\n",
    "    print (f\"Error: {err_msg}\")\n",
    "    file_name = input('Enter File Name: ')\n",
    "    input_file = open(\"xyz.pdf\", 'r')    \n",
    "except:\n",
    "    print (f\"Error\")\n",
    "    file_name = input('Enter File Name: ')\n",
    "    input_file = open(\"xyz.pdf\", 'r')\n",
    "\n",
    "        \n",
    "input_file.close()"
   ]
  },
  {
   "cell_type": "markdown",
   "id": "55189f51",
   "metadata": {},
   "source": [
    "## `with` statement\n",
    "- used in exception handling to make the code cleaner and much more readable. \n",
    "- it simplifies the management of common resources like file streams."
   ]
  },
  {
   "cell_type": "code",
   "execution_count": 3,
   "id": "259da488",
   "metadata": {},
   "outputs": [],
   "source": [
    "# file handling\n",
    "\n",
    "# 1) without using with statement\n",
    "file = open('file_path', 'w')\n",
    "file.write('hello world !')\n",
    "file.close()"
   ]
  },
  {
   "cell_type": "code",
   "execution_count": 4,
   "id": "0019f182",
   "metadata": {},
   "outputs": [],
   "source": [
    "# 2) without using with statement\n",
    "file = open('file_path', 'w')\n",
    "try:\n",
    "    file.write('hello world')\n",
    "finally:\n",
    "    file.close()"
   ]
  },
  {
   "cell_type": "code",
   "execution_count": null,
   "id": "8292229b",
   "metadata": {},
   "outputs": [],
   "source": [
    "# using with statement\n",
    "with open('file_path', 'w') as file:\n",
    "    file.write('hello world !')"
   ]
  },
  {
   "cell_type": "code",
   "execution_count": null,
   "id": "deb30c62",
   "metadata": {},
   "outputs": [],
   "source": []
  },
  {
   "cell_type": "code",
   "execution_count": null,
   "id": "1d7e3509",
   "metadata": {},
   "outputs": [],
   "source": []
  },
  {
   "cell_type": "code",
   "execution_count": null,
   "id": "b63f0a08",
   "metadata": {},
   "outputs": [],
   "source": []
  },
  {
   "cell_type": "code",
   "execution_count": null,
   "id": "21732818",
   "metadata": {},
   "outputs": [],
   "source": []
  },
  {
   "cell_type": "code",
   "execution_count": null,
   "id": "4d8c05e8",
   "metadata": {},
   "outputs": [],
   "source": []
  },
  {
   "cell_type": "code",
   "execution_count": null,
   "id": "dc07c5d5",
   "metadata": {},
   "outputs": [],
   "source": []
  },
  {
   "cell_type": "code",
   "execution_count": null,
   "id": "bc4b54bb",
   "metadata": {},
   "outputs": [],
   "source": []
  },
  {
   "cell_type": "code",
   "execution_count": null,
   "id": "1e80d8de",
   "metadata": {},
   "outputs": [],
   "source": []
  },
  {
   "cell_type": "code",
   "execution_count": null,
   "id": "6bea73b8",
   "metadata": {},
   "outputs": [],
   "source": []
  },
  {
   "cell_type": "code",
   "execution_count": 7,
   "id": "152e1f6b",
   "metadata": {},
   "outputs": [
    {
     "name": "stdout",
     "output_type": "stream",
     "text": [
      "Enter a number to compute the factor value: -1\n"
     ]
    },
    {
     "ename": "ValueError",
     "evalue": "factorial() not defined for negative values",
     "output_type": "error",
     "traceback": [
      "\u001b[0;31m---------------------------------------------------------------------------\u001b[0m",
      "\u001b[0;31mValueError\u001b[0m                                Traceback (most recent call last)",
      "Input \u001b[0;32mIn [7]\u001b[0m, in \u001b[0;36m<cell line: 4>\u001b[0;34m()\u001b[0m\n\u001b[1;32m      1\u001b[0m \u001b[38;5;28;01mimport\u001b[39;00m \u001b[38;5;21;01mmath\u001b[39;00m\n\u001b[1;32m      3\u001b[0m num \u001b[38;5;241m=\u001b[39m \u001b[38;5;28mint\u001b[39m(\u001b[38;5;28minput\u001b[39m(\u001b[38;5;124m\"\u001b[39m\u001b[38;5;124mEnter a number to compute the factor value: \u001b[39m\u001b[38;5;124m\"\u001b[39m))\n\u001b[0;32m----> 4\u001b[0m factorial \u001b[38;5;241m=\u001b[39m \u001b[43mmath\u001b[49m\u001b[38;5;241;43m.\u001b[39;49m\u001b[43mfactorial\u001b[49m\u001b[43m(\u001b[49m\u001b[43mnum\u001b[49m\u001b[43m)\u001b[49m\n\u001b[1;32m      5\u001b[0m \u001b[38;5;28mprint\u001b[39m (\u001b[38;5;124mf\u001b[39m\u001b[38;5;124m\"\u001b[39m\u001b[38;5;124mThe factorial of \u001b[39m\u001b[38;5;132;01m{\u001b[39;00mnum\u001b[38;5;132;01m}\u001b[39;00m\u001b[38;5;124m is \u001b[39m\u001b[38;5;132;01m{\u001b[39;00mfactorial\u001b[38;5;132;01m}\u001b[39;00m\u001b[38;5;124m\"\u001b[39m)\n",
      "\u001b[0;31mValueError\u001b[0m: factorial() not defined for negative values"
     ]
    }
   ],
   "source": [
    "import math\n",
    "\n",
    "num = int(input(\"Enter a number to compute the factor value: \"))\n",
    "factorial = math.factorial(num)\n",
    "print (f\"The factorial of {num} is {factorial}\")"
   ]
  },
  {
   "cell_type": "code",
   "execution_count": 11,
   "id": "ea62eb72",
   "metadata": {},
   "outputs": [
    {
     "name": "stdout",
     "output_type": "stream",
     "text": [
      "Enter a number to compute the factor value: -1\n",
      "ERROR: factorial() not defined for negative values ... passed value is: -1\n"
     ]
    }
   ],
   "source": [
    "num = int(input(\"Enter a number to compute the factor value: \"))\n",
    "try:\n",
    "    factorial = math.factorial(num)\n",
    "    print (f\"The factorial of {num} is {factorial}\")\n",
    "except ValueError as err_msg:\n",
    "    print (f\"ERROR: {err_msg} ... passed value is: {num}\")"
   ]
  },
  {
   "cell_type": "code",
   "execution_count": 15,
   "id": "aaf7e06e",
   "metadata": {},
   "outputs": [
    {
     "name": "stdout",
     "output_type": "stream",
     "text": [
      "Enter a number to compute the factor value: -3\n",
      "The factorial of 3 is 6\n"
     ]
    }
   ],
   "source": [
    "num = int(input(\"Enter a number to compute the factor value: \"))\n",
    "try:\n",
    "    factorial = math.factorial(num)\n",
    "except ValueError as err_msg:\n",
    "    if num<0:\n",
    "        num = abs(num)\n",
    "        factorial = math.factorial(num)\n",
    "    else:\n",
    "        print (f\"ERROR: {err_msg} ... passed value is: {num}\")\n",
    "print (f\"The factorial of {num} is {factorial}\")"
   ]
  }
 ],
 "metadata": {
  "kernelspec": {
   "display_name": "Python 3 (ipykernel)",
   "language": "python",
   "name": "python3"
  },
  "language_info": {
   "codemirror_mode": {
    "name": "ipython",
    "version": 3
   },
   "file_extension": ".py",
   "mimetype": "text/x-python",
   "name": "python",
   "nbconvert_exporter": "python",
   "pygments_lexer": "ipython3",
   "version": "3.10.6"
  }
 },
 "nbformat": 4,
 "nbformat_minor": 5
}
